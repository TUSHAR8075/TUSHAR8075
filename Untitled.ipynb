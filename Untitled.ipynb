{
 "cells": [
  {
   "cell_type": "code",
   "execution_count": 1,
   "id": "2f326b1f-39af-4a6d-abad-4e91ca0c3714",
   "metadata": {},
   "outputs": [],
   "source": [
    "a = 'Welcome to Python foundation course'"
   ]
  },
  {
   "cell_type": "code",
   "execution_count": 2,
   "id": "f3e39993-4501-471e-8e4b-961a38cc03f9",
   "metadata": {},
   "outputs": [
    {
     "data": {
      "text/plain": [
       "11"
      ]
     },
     "execution_count": 2,
     "metadata": {},
     "output_type": "execute_result"
    }
   ],
   "source": [
    "a.find('P')"
   ]
  },
  {
   "cell_type": "code",
   "execution_count": 6,
   "id": "7ab9d1e2-bc09-40fd-9d68-3e4df72da40f",
   "metadata": {},
   "outputs": [
    {
     "data": {
      "text/plain": [
       "1"
      ]
     },
     "execution_count": 6,
     "metadata": {},
     "output_type": "execute_result"
    }
   ],
   "source": [
    "a.count('a')"
   ]
  },
  {
   "cell_type": "code",
   "execution_count": 7,
   "id": "ed7cc36b-37e4-473e-b46f-465bd931d85c",
   "metadata": {},
   "outputs": [
    {
     "data": {
      "text/plain": [
       "35"
      ]
     },
     "execution_count": 7,
     "metadata": {},
     "output_type": "execute_result"
    }
   ],
   "source": [
    "len(a)"
   ]
  },
  {
   "cell_type": "code",
   "execution_count": 8,
   "id": "b6fdc6c0-ef17-451d-875e-202a6a6013e0",
   "metadata": {},
   "outputs": [
    {
     "ename": "NameError",
     "evalue": "name 'concatenatioon' is not defined",
     "output_type": "error",
     "traceback": [
      "\u001b[0;31m---------------------------------------------------------------------------\u001b[0m",
      "\u001b[0;31mNameError\u001b[0m                                 Traceback (most recent call last)",
      "Cell \u001b[0;32mIn[8], line 1\u001b[0m\n\u001b[0;32m----> 1\u001b[0m \u001b[43mconcatenatioon\u001b[49m\n",
      "\u001b[0;31mNameError\u001b[0m: name 'concatenatioon' is not defined"
     ]
    }
   ],
   "source": [
    "concatenatioon"
   ]
  },
  {
   "cell_type": "code",
   "execution_count": null,
   "id": "5610754b-0e73-4656-8c07-96da2ee5ea9d",
   "metadata": {},
   "outputs": [],
   "source": []
  }
 ],
 "metadata": {
  "kernelspec": {
   "display_name": "Python 3 (ipykernel)",
   "language": "python",
   "name": "python3"
  },
  "language_info": {
   "codemirror_mode": {
    "name": "ipython",
    "version": 3
   },
   "file_extension": ".py",
   "mimetype": "text/x-python",
   "name": "python",
   "nbconvert_exporter": "python",
   "pygments_lexer": "ipython3",
   "version": "3.10.8"
  }
 },
 "nbformat": 4,
 "nbformat_minor": 5
}
